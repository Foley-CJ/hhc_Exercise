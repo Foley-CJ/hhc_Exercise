{
 "cells": [
  {
   "cell_type": "markdown",
   "metadata": {},
   "source": [
    "<h1> HHC Raw Data Load Process </h1>\n",
    "\n",
    "This process is to take the raw data files provided, clean them, and store them into a relational database.\n",
    "\n",
    "<h4> #1 Import necessary packages </h4>\n",
    "\n",
    "* ast is used to interpert string data as it's literal type (string to dictionary conversion)\n",
    "* getpass is used to store and pass DB password\n",
    "* pandas a dataframe package used in this process for json to rds mapping\n",
    "* psycopg2 package used to interact with Postgres DBS, the rds used in this project\n",
    "\n",
    "    \n",
    "<h4> #2 Setup conection to our postgres database: hhc_db1 </h4>\n",
    "   \n",
    "<h4> #3 Load the SSI data </h4>\n",
    "\n",
    "* optional:  clean the data\n",
    "* create an empty table \n",
    "* insert all records into the SSI table\n",
    "    \n",
    "<h4> #4 Load the mexia data </h4>\n",
    "\n",
    "* optional:  clean the data\n",
    "* create an empty table \n",
    "* insert all records into the mexia table\n",
    "\n",
    "<h4> #5 Close connections to Postgres </h4>\n",
    "    "
   ]
  },
  {
   "cell_type": "markdown",
   "metadata": {},
   "source": [
    "<h2> Step 1 </h2>"
   ]
  },
  {
   "cell_type": "code",
   "execution_count": 1,
   "metadata": {
    "collapsed": false
   },
   "outputs": [],
   "source": [
    "from getpass import getpass\n",
    "import ast\n",
    "import pandas as pd\n",
    "import psycopg2"
   ]
  },
  {
   "cell_type": "markdown",
   "metadata": {},
   "source": [
    "<h2> Step 2 </h2>"
   ]
  },
  {
   "cell_type": "code",
   "execution_count": 4,
   "metadata": {
    "collapsed": false
   },
   "outputs": [
    {
     "name": "stdout",
     "output_type": "stream",
     "text": [
      "please enter the db admin password:········\n"
     ]
    }
   ],
   "source": [
    "pa = getpass('please enter the db admin password:')\n",
    "conn = psycopg2.connect(\"dbname=hhc_db1 user=postgres password=%s\" %pa)\n",
    "cur = conn.cursor()"
   ]
  },
  {
   "cell_type": "markdown",
   "metadata": {},
   "source": [
    "<h2> Step 3 - SSI Data Load </h2>"
   ]
  },
  {
   "cell_type": "markdown",
   "metadata": {},
   "source": [
    "<h6> create and load the socialsignin_profiles  </h6>"
   ]
  },
  {
   "cell_type": "code",
   "execution_count": null,
   "metadata": {
    "collapsed": true
   },
   "outputs": [],
   "source": [
    "#profilesCleaned.txt is derived form the master file, the only change is that\n",
    "#ssi_id in the first column has been cleansed so the json data can be extracted\n",
    "\n",
    "oldFileName = 'ss_profile/v2/profilesCleaned.txt'\n",
    "newFileName = 'ss_profile/v2/2017_01_11_socialsignin_profilesFormatted.csv'\n",
    "skippedRows = 0\n",
    "listedDicts = []\n",
    "\n",
    "#pull the data from txt file.\n",
    "with open(oldFileName, 'r') as f:\n",
    "    rawString = f.read()\n",
    "\n",
    "#correct for true/false formatting \n",
    "rawStringClean1 = rawString.replace('true', '\"true\"')\n",
    "rawStringClean2 = rawStringClean1.replace('false', '\"false\"')\n",
    "\n",
    "#split raw data string into a list of strings.\n",
    "listedStrings= rawStringClean2.split(\"\\r\")\n",
    "\n",
    "#convert the list of strings into a list of dictionaries\n",
    "for string in listedStrings:\n",
    "    try:\n",
    "        listedDicts.append(ast.literal_eval(string))\n",
    "    except:\n",
    "        #due to \" and ' some data is no longer in a reasonable format.\n",
    "        pass\n",
    "        skippedRows += 1\n",
    "\n",
    "#print records skipped\n",
    "print str(skippedRows) + ' rows skipped'\n",
    "\n",
    "#format data using Pandas\n",
    "ss_profile = pd.DataFrame(listedDicts)\n",
    "\n",
    "#push data to csv in order to prepare for RDS load\n",
    "ss_profile.to_csv(newFileName,sep='|',index=False, header=False)\n",
    "\n",
    "\n",
    "#build new empty table on RDS\n",
    "cur.execute('''CREATE TABLE ss_profiles \n",
    "                   (keyId serial Primary Key,\n",
    "                    created varchar,\n",
    "                    default_login_method varchar,\n",
    "                    email varchar,\n",
    "                    email_opt_in varchar,\n",
    "                    fb_birthday varchar,\n",
    "                    fb_email varchar,\n",
    "                    fb_fav_athletes varchar,\n",
    "                    fb_fav_team varchar,\n",
    "                    fb_frst_nm varchar,\n",
    "                    fb_gender varchar,\n",
    "                    fb_hometown varchar,\n",
    "                    fb_id varchar,\n",
    "                    fb_insprd_ppl varchar,\n",
    "                    fb_lngs varchar,\n",
    "                    fb_lst_nm varchar,\n",
    "                    fb_locale varchar,\n",
    "                    fb_loc varchar,\n",
    "                    fb_md_nm varchar,\n",
    "                    fb_nm varchar,\n",
    "                    fb_sprts varchar,\n",
    "                    fb_tz varchar,\n",
    "                    fb_udt_tm varchar,\n",
    "                    fb_usr_nm varchar,\n",
    "                    fb_vrfd varchar,\n",
    "                    fb_id_2 varchar,\n",
    "                    first_ap varchar,\n",
    "                    frst_nm varchar,\n",
    "                    gender varchar,\n",
    "                    last_ap varchar,\n",
    "                    lst_nm varchar,\n",
    "                    lst_sn varchar,\n",
    "                    loc_nm varchar,\n",
    "                    name varchar,\n",
    "                    phone varchar,\n",
    "                    ssi_id varchar,\n",
    "                    vst_count varchar\n",
    "                    );''')\n",
    "\n",
    "\n",
    "#insert data into table\n",
    "f = open(newFileName)\n",
    "cur.copy_from(f, 'ss_profiles', sep='|', columns=('created',\n",
    "                                                'default_login_method',\n",
    "                                                'email',\n",
    "                                                'email_opt_in',\n",
    "                                                'fb_birthday',\n",
    "                                                'fb_email',\n",
    "                                                'fb_fav_athletes',\n",
    "                                                'fb_fav_team',\n",
    "                                                'fb_frst_nm',\n",
    "                                                'fb_gender',\n",
    "                                                'fb_hometown',\n",
    "                                                'fb_id',\n",
    "                                                'fb_insprd_ppl',\n",
    "                                                'fb_lngs',\n",
    "                                                'fb_lst_nm',\n",
    "                                                'fb_locale',\n",
    "                                                'fb_loc',\n",
    "                                                'fb_md_nm',\n",
    "                                                'fb_nm',\n",
    "                                                'fb_sprts',\n",
    "                                                'fb_tz',\n",
    "                                                'fb_udt_tm',\n",
    "                                                'fb_usr_nm',\n",
    "                                                'fb_vrfd',\n",
    "                                                'fb_id_2',\n",
    "                                                'first_ap',\n",
    "                                                'frst_nm',\n",
    "                                                'gender',\n",
    "                                                'last_ap',\n",
    "                                                'lst_nm',\n",
    "                                                'lst_sn',\n",
    "                                                'loc_nm',\n",
    "                                                'name',\n",
    "                                                'phone',\n",
    "                                                'ssi_id',\n",
    "                                                'vst_count'))\n",
    "#save changes\n",
    "conn.commit()\n"
   ]
  },
  {
   "cell_type": "markdown",
   "metadata": {},
   "source": [
    "<h6> create and load the socialsignin_mac_references table </h6>"
   ]
  },
  {
   "cell_type": "code",
   "execution_count": null,
   "metadata": {
    "collapsed": false
   },
   "outputs": [],
   "source": [
    "#build new empty table on RDS\n",
    "cur.execute('''CREATE TABLE ss_mac_ref \n",
    "                   (keyId serial Primary Key,\n",
    "                    ssi_id varchar,\n",
    "                    location_id varchar,\n",
    "                    user_mac varchar,\n",
    "                    expires_at varchar\n",
    "                    );''')\n",
    "\n",
    "\n",
    "#insert data into table\n",
    "f = open('rawData/2017_01_11_socialsignin_mac_references000.csv')\n",
    "cur.copy_from(f, 'ss_mac_ref', sep='|', columns=('ssi_id',\n",
    "                                                 'location_id',\n",
    "                                                 'user_mac',\n",
    "                                                 'expires_at'))\n",
    "#save changes\n",
    "conn.commit()"
   ]
  },
  {
   "cell_type": "markdown",
   "metadata": {},
   "source": [
    "<h6> create and load the socialsignin_events table </h6>"
   ]
  },
  {
   "cell_type": "code",
   "execution_count": null,
   "metadata": {
    "collapsed": false
   },
   "outputs": [],
   "source": [
    "#build new empty table on RDS\n",
    "cur.execute('''CREATE TABLE ss_events \n",
    "                   (keyId serial Primary Key,\n",
    "                    ssi_id varchar,\n",
    "                    experience_id varchar,\n",
    "                    card_id varchar,\n",
    "                    meta varchar,\n",
    "                    time_stamp varchar, \n",
    "                    channel varchar\n",
    "                    );''')\n",
    "\n",
    "#insert data into table\n",
    "f = open('rawData/2017_01_11_socialsignin_events000.csv')\n",
    "cur.copy_from(f, 'ss_events', sep='|', columns=('ssi_id',\n",
    "                                                'experience_id',\n",
    "                                                'card_id',\n",
    "                                                'meta',\n",
    "                                                'time_stamp',\n",
    "                                                'channel'))\n",
    "#save changes\n",
    "conn.commit()"
   ]
  },
  {
   "cell_type": "markdown",
   "metadata": {},
   "source": [
    "<h6> create and load the socialsignin_interests table </h6>"
   ]
  },
  {
   "cell_type": "code",
   "execution_count": null,
   "metadata": {
    "collapsed": false
   },
   "outputs": [],
   "source": [
    "#build new empty table on RDS\n",
    "cur.execute('''CREATE TABLE ss_interests \n",
    "                   (keyId serial Primary Key,\n",
    "                    ssi_id varchar,\n",
    "                    fb_id varchar,\n",
    "                    cat varchar,\n",
    "                    created varchar,\n",
    "                    name varchar, \n",
    "                    id varchar,\n",
    "                    cache_timestamp varchar\n",
    "                    );''')\n",
    "\n",
    "#insert data into table\n",
    "f = open('rawData/2017_01_11_socialsignin_interests000.csv')\n",
    "cur.copy_from(f, 'ss_interests', sep='|', columns=('ssi_id',\n",
    "                                                'fb_id',\n",
    "                                                'cat',\n",
    "                                                'created',\n",
    "                                                'name',\n",
    "                                                'id',\n",
    "                                                'cache_timestamp'))\n",
    "#save changes\n",
    "conn.commit()"
   ]
  },
  {
   "cell_type": "markdown",
   "metadata": {},
   "source": [
    "<h6> create and load the socialsignin_interests table </h6>"
   ]
  },
  {
   "cell_type": "code",
   "execution_count": null,
   "metadata": {
    "collapsed": false
   },
   "outputs": [],
   "source": [
    "#build new empty table on RDS\n",
    "cur.execute('''CREATE TABLE ss_visits \n",
    "                   (keyId serial Primary Key,\n",
    "                    ssi_id varchar,\n",
    "                    experience_id varchar,\n",
    "                    verified_location varchar,\n",
    "                    visit_date date,\n",
    "                    visit_timestamp varchar, \n",
    "                    total_visits integer\n",
    "                    );''')\n",
    "\n",
    "#insert data into table\n",
    "f = open('rawData/2017_01_11_socialsignin_visits000.csv')\n",
    "cur.copy_from(f, 'ss_visits', sep='|', columns=('ssi_id',\n",
    "                                                'experience_id',\n",
    "                                                'verified_location',\n",
    "                                                'visit_date',\n",
    "                                                'visit_timestamp',\n",
    "                                                'total_visits'))\n",
    "#save changes\n",
    "conn.commit()"
   ]
  },
  {
   "cell_type": "markdown",
   "metadata": {},
   "source": [
    "<h2> Step 4 - Mexia Data Load</h2>"
   ]
  },
  {
   "cell_type": "markdown",
   "metadata": {},
   "source": [
    "<h6> create and load the mexia visit table </h6>"
   ]
  },
  {
   "cell_type": "code",
   "execution_count": null,
   "metadata": {
    "collapsed": true
   },
   "outputs": [],
   "source": [
    "#build new empty table on RDS\n",
    "cur.execute('''CREATE TABLE mexia_ssi_data \n",
    "                   (keyId serial Primary Key,\n",
    "                    mac_address varchar,\n",
    "                    visit_id varchar,\n",
    "                    length_of_current_visit_in_sec INTEGER,\n",
    "                    site_entry_marker varchar,\n",
    "                    current_zone_id integer,\n",
    "                    current_zone_name varchar,\n",
    "                    zone_entry_ts timestamp,\n",
    "                    zone_exit_ts timestamp,\n",
    "                    dwell_time_in_sec integer,\n",
    "                    previous_zone_id integer,\n",
    "                    previous_zone_name varchar,\n",
    "                    data_file_date timestamp,\n",
    "                    created_at timestamp\n",
    "                    );''')\n",
    "\n",
    "#insert data into table\n",
    "f = open('rawData/2017_01_11_unload_mexia_visits.csv')\n",
    "cur.copy_from(f, \n",
    "              'mexia_ssi_data', \n",
    "              sep='|', \n",
    "              columns=( 'mac_address',\n",
    "                        'visit_id',\n",
    "                        'length_of_current_visit_in_sec',\n",
    "                        'site_entry_marker',\n",
    "                        'current_zone_id',\n",
    "                        'current_zone_name',\n",
    "                        'zone_entry_ts',\n",
    "                        'zone_exit_ts',\n",
    "                        'dwell_time_in_sec',\n",
    "                        'previous_zone_id',\n",
    "                        'previous_zone_name',\n",
    "                        'data_file_date',\n",
    "                        'created_at'\n",
    "                       ))\n",
    "\n",
    "#save changes\n",
    "conn.commit()"
   ]
  },
  {
   "cell_type": "markdown",
   "metadata": {},
   "source": [
    "<h6> create and load the mexia zone table </h6>"
   ]
  },
  {
   "cell_type": "code",
   "execution_count": 5,
   "metadata": {
    "collapsed": false
   },
   "outputs": [],
   "source": [
    "\n",
    "\n",
    "#build new empty table on RDS\n",
    "cur.execute('''CREATE TABLE mexia_zone_data \n",
    "                   (keyId serial Primary Key,\n",
    "                    zone_id integer,\n",
    "                    zone_name varchar,\n",
    "                    x_position varchar,\n",
    "                    y_position varchar,\n",
    "                    z_position varchar,\n",
    "                    zone_group_id integer,\n",
    "                    zone_type_id integer,\n",
    "                    area varchar,\n",
    "                    data_file_date timestamp,\n",
    "                    created_at timestamp\n",
    "                    );''')\n",
    "\n",
    "#insert data into table\n",
    "f = open('rawData/2017_01_11_unload_mexia_zones.csv')\n",
    "cur.copy_from(f, \n",
    "              'mexia_zone_data', \n",
    "              sep='|', \n",
    "              columns=( 'zone_id',\n",
    "                        'zone_name',\n",
    "                        'x_position',\n",
    "                        'y_position',\n",
    "                        'z_position',\n",
    "                        'zone_group_id',\n",
    "                        'zone_type_id',\n",
    "                        'area',\n",
    "                        'data_file_date',\n",
    "                        'created_at'\n",
    "                       ))\n",
    "\n",
    "#save changes\n",
    "conn.commit()"
   ]
  },
  {
   "cell_type": "markdown",
   "metadata": {},
   "source": [
    "<h2> Step 5 </h2>"
   ]
  },
  {
   "cell_type": "code",
   "execution_count": 30,
   "metadata": {
    "collapsed": true
   },
   "outputs": [],
   "source": [
    "cur.close()\n",
    "conn.close()"
   ]
  }
 ],
 "metadata": {
  "kernelspec": {
   "display_name": "Python 2",
   "language": "python",
   "name": "python2"
  },
  "language_info": {
   "codemirror_mode": {
    "name": "ipython",
    "version": 2
   },
   "file_extension": ".py",
   "mimetype": "text/x-python",
   "name": "python",
   "nbconvert_exporter": "python",
   "pygments_lexer": "ipython2",
   "version": "2.7.13"
  }
 },
 "nbformat": 4,
 "nbformat_minor": 2
}
