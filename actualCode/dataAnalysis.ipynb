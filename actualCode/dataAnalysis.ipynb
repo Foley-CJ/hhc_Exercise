{
 "cells": [
  {
   "cell_type": "markdown",
   "metadata": {},
   "source": [
    "<h1> HHC Data Investigation Process </h1>\n",
    "\n",
    "This process is to analyze and investigate the cleaned data that has been loaded into a local postgres rds.\n",
    "\n",
    "<h4> #1 Import necessary packages </h4>\n",
    "\n",
    "* getpass is used to store and pass DB password\n",
    "* numpy is a aggregation framework that works with pandas\n",
    "* pandas a dataframe package used in this process for json to rds mapping\n",
    "* psycopg2 package used to interact with Postgres DBS, the rds used in this project\n",
    "* plotly package is used for data visualization and graphing\n",
    "\n",
    "    \n",
    "<h4> #2 Setup external connections </h4>\n",
    "\n",
    "* Establish connection to our postgres database: hhc_db1\n",
    "* Establish connection to plotly API\n",
    "\n",
    "<h4> #3 Initial visit investigation </h4>\n",
    "\n",
    "* build necessary functions\n",
    "* connect to hhc_db1 and pull data from mexia_visit table\n",
    "* clean the data and re-orient into dataframe\n",
    "* tabulate high-level metrics\n",
    "  * Total Time Spent\n",
    "  * Total Number of Visitors\n",
    "  * Total Unique Visitors\n",
    "  * Average Visits per person\n",
    "\n",
    "    \n",
    "<h4> #4 Zone Deep Dive </h4>\n",
    "\n",
    "* build necessary functions\n",
    "* apply zone function to current_zone_group\n",
    "* derive Zone Type time percentages\n",
    "* build line chart and display\n",
    "\n",
    "<h4> #5 Location Study (Merged Data Analysis)</h4>\n",
    "\n",
    "* pull relevant data from mexia and ssi tables for all Merged Data Analysis\n",
    "* process subset of data for location study and remove local individuals\n",
    "* build bar chart and display\n",
    "\n",
    "<h4> #6 Gender Effect (Merged Data Analysis) </h4>\n",
    "\n",
    "* extract subset of data for gender study and remove missing genders\n",
    "* process group by unique counts and split data sets\n",
    "* build grouped bar chart and display\n",
    "\n",
    "<h4> #7 Close connection to Postgres RDS </h4>"
   ]
  },
  {
   "cell_type": "markdown",
   "metadata": {},
   "source": [
    "<h2> Step 1 </h2>"
   ]
  },
  {
   "cell_type": "code",
   "execution_count": 1,
   "metadata": {
    "collapsed": false
   },
   "outputs": [],
   "source": [
    "from getpass import getpass\n",
    "import numpy as np\n",
    "import pandas as pd\n",
    "import psycopg2\n",
    "import plotly.plotly as py\n",
    "import plotly.graph_objs as go"
   ]
  },
  {
   "cell_type": "markdown",
   "metadata": {},
   "source": [
    "<h2> Step 2 </h2>"
   ]
  },
  {
   "cell_type": "code",
   "execution_count": 2,
   "metadata": {
    "collapsed": false
   },
   "outputs": [
    {
     "name": "stdout",
     "output_type": "stream",
     "text": [
      "please enter the db admin password:········\n"
     ]
    }
   ],
   "source": [
    "#connect to postgres\n",
    "paPostgress = getpass('please enter the db admin password:')\n",
    "conn = psycopg2.connect(\"dbname=hhc_db1 user=postgres password=%s\" %paPostgress)\n",
    "cur = conn.cursor()"
   ]
  },
  {
   "cell_type": "code",
   "execution_count": 3,
   "metadata": {
    "collapsed": false
   },
   "outputs": [
    {
     "name": "stdout",
     "output_type": "stream",
     "text": [
      "please enter the ploty API secret key:········\n"
     ]
    }
   ],
   "source": [
    "#connect to plotly API\n",
    "plotlyPass = getpass('please enter the ploty API secret key:')\n",
    "py.sign_in('CJ_Foley','%s' %plotlyPass)"
   ]
  },
  {
   "cell_type": "markdown",
   "metadata": {},
   "source": [
    "<h2> Step 3 - Summary Analysis </h2>"
   ]
  },
  {
   "cell_type": "markdown",
   "metadata": {},
   "source": [
    "<h6> Build Functions </h6>"
   ]
  },
  {
   "cell_type": "code",
   "execution_count": 4,
   "metadata": {
    "collapsed": true
   },
   "outputs": [],
   "source": [
    "#These function is designed to further clean and refine the data.\n",
    "\n",
    "def removeCoordinates(x):\n",
    "    '''\n",
    "    Head:This function was built to remove the coordinate \n",
    "         on the end of the zone name\n",
    "    \n",
    "    Note:This function should be used with a \n",
    "         .map() or .apply() function on a pandas dataframe\n",
    "    \n",
    "    Requires:\n",
    "        single data point - zone_data\n",
    "        \n",
    "    Returns:\n",
    "        single data point - stripped zone_data\n",
    "    \n",
    "    '''\n",
    "    piecedString = x.split()\n",
    "    if piecedString[-1] in ('N','S','E','W'):\n",
    "        x = x[0:-1].strip()\n",
    "    elif piecedString[-1] in ('NE','NW','SE','SW'):\n",
    "        x = x[0:-2].strip()\n",
    "    else:\n",
    "        pass\n",
    "    return x.strip()"
   ]
  },
  {
   "cell_type": "markdown",
   "metadata": {},
   "source": [
    "<h6> Extract Relevant Data </h6>"
   ]
  },
  {
   "cell_type": "code",
   "execution_count": 5,
   "metadata": {
    "collapsed": false
   },
   "outputs": [],
   "source": [
    "#determine columns\n",
    "relevantColumns = ['current_zone_name',\n",
    "                   'dwell_time_in_sec',\n",
    "                   'data_file_date',\n",
    "                   'mac_address']\n",
    "\n",
    "#reformat columns into string\n",
    "columnsStr = ', '.join(['%s']*len(relevantColumns)) %tuple(relevantColumns)\n",
    "\n",
    "#extract actual data from rds\n",
    "cur.execute('''select %s from mexia_ssi_data;''' %columnsStr)"
   ]
  },
  {
   "cell_type": "markdown",
   "metadata": {},
   "source": [
    "<h6> Clean Data </h6>"
   ]
  },
  {
   "cell_type": "code",
   "execution_count": 6,
   "metadata": {
    "collapsed": true
   },
   "outputs": [],
   "source": [
    "#load extract into dataFrame\n",
    "rawExtract = pd.DataFrame(cur.fetchall(),columns=relevantColumns)\n",
    "\n",
    "#clean extract\n",
    "rawExtract['current_zone_grouped']= rawExtract['current_zone_name'].apply(removeCoordinates)"
   ]
  },
  {
   "cell_type": "markdown",
   "metadata": {},
   "source": [
    "<h6> Process and Analyze Data </h6>"
   ]
  },
  {
   "cell_type": "code",
   "execution_count": 7,
   "metadata": {
    "collapsed": false
   },
   "outputs": [],
   "source": [
    "#define the aggregations we want to perform\n",
    "funcs = {'dwell_time_in_sec':['sum','mean','count'],\n",
    "         'mac_address':['nunique'],\n",
    "         'data_file_date':['min','max']}\n",
    "\n",
    "#performat aggregation\n",
    "processedData = rawExtract.groupby(['current_zone_grouped']).agg(funcs)\n",
    "\n",
    "#refine data\n",
    "cleanData = pd.DataFrame(processedData.reset_index().values,\n",
    "                         columns=['zone_name',\n",
    "                                  'time_spent',\n",
    "                                  'avg_time_spent',\n",
    "                                  'visits',\n",
    "                                  'min_visit_date',\n",
    "                                  'max_visit_date',\n",
    "                                  'unique_visitors'])\n",
    "\n",
    "#perform additional calculation\n",
    "cleanData['avgVisitsPerVisitor'] = cleanData['visits']/cleanData['unique_visitors']"
   ]
  },
  {
   "cell_type": "markdown",
   "metadata": {},
   "source": [
    "<h6> Display Results </h6>"
   ]
  },
  {
   "cell_type": "code",
   "execution_count": 8,
   "metadata": {
    "collapsed": false
   },
   "outputs": [
    {
     "data": {
      "text/html": [
       "<div>\n",
       "<table border=\"1\" class=\"dataframe\">\n",
       "  <thead>\n",
       "    <tr style=\"text-align: right;\">\n",
       "      <th></th>\n",
       "      <th>zone_name</th>\n",
       "      <th>time_spent</th>\n",
       "      <th>avg_time_spent</th>\n",
       "      <th>visits</th>\n",
       "      <th>min_visit_date</th>\n",
       "      <th>max_visit_date</th>\n",
       "      <th>unique_visitors</th>\n",
       "      <th>avgVisitsPerVisitor</th>\n",
       "    </tr>\n",
       "  </thead>\n",
       "  <tbody>\n",
       "    <tr>\n",
       "      <th>0</th>\n",
       "      <td>American Eagle</td>\n",
       "      <td>8410620</td>\n",
       "      <td>271.564</td>\n",
       "      <td>30971</td>\n",
       "      <td>2016-12-01 00:00:00</td>\n",
       "      <td>2017-01-11 00:00:00</td>\n",
       "      <td>13388</td>\n",
       "      <td>2.31334</td>\n",
       "    </tr>\n",
       "    <tr>\n",
       "      <th>1</th>\n",
       "      <td>Art of Shaving</td>\n",
       "      <td>41490910</td>\n",
       "      <td>536.703</td>\n",
       "      <td>77307</td>\n",
       "      <td>2016-12-01 00:00:00</td>\n",
       "      <td>2017-01-11 00:00:00</td>\n",
       "      <td>28934</td>\n",
       "      <td>2.67184</td>\n",
       "    </tr>\n",
       "    <tr>\n",
       "      <th>2</th>\n",
       "      <td>B. Young</td>\n",
       "      <td>13266030</td>\n",
       "      <td>339.38</td>\n",
       "      <td>39089</td>\n",
       "      <td>2016-12-01 00:00:00</td>\n",
       "      <td>2017-01-11 00:00:00</td>\n",
       "      <td>18931</td>\n",
       "      <td>2.06481</td>\n",
       "    </tr>\n",
       "    <tr>\n",
       "      <th>3</th>\n",
       "      <td>Chicos</td>\n",
       "      <td>23066130</td>\n",
       "      <td>312.621</td>\n",
       "      <td>73783</td>\n",
       "      <td>2016-12-01 00:00:00</td>\n",
       "      <td>2017-01-11 00:00:00</td>\n",
       "      <td>29217</td>\n",
       "      <td>2.52534</td>\n",
       "    </tr>\n",
       "    <tr>\n",
       "      <th>4</th>\n",
       "      <td>Cream</td>\n",
       "      <td>53903660</td>\n",
       "      <td>574.409</td>\n",
       "      <td>93842</td>\n",
       "      <td>2016-12-01 00:00:00</td>\n",
       "      <td>2017-01-11 00:00:00</td>\n",
       "      <td>35554</td>\n",
       "      <td>2.63942</td>\n",
       "    </tr>\n",
       "    <tr>\n",
       "      <th>5</th>\n",
       "      <td>Dave and Buster's</td>\n",
       "      <td>52722150</td>\n",
       "      <td>403.071</td>\n",
       "      <td>130801</td>\n",
       "      <td>2016-12-01 00:00:00</td>\n",
       "      <td>2017-01-11 00:00:00</td>\n",
       "      <td>39109</td>\n",
       "      <td>3.34452</td>\n",
       "    </tr>\n",
       "    <tr>\n",
       "      <th>6</th>\n",
       "      <td>Express</td>\n",
       "      <td>21148830</td>\n",
       "      <td>282.414</td>\n",
       "      <td>74886</td>\n",
       "      <td>2016-12-01 00:00:00</td>\n",
       "      <td>2017-01-11 00:00:00</td>\n",
       "      <td>28394</td>\n",
       "      <td>2.63739</td>\n",
       "    </tr>\n",
       "    <tr>\n",
       "      <th>7</th>\n",
       "      <td>Forever 21</td>\n",
       "      <td>22785990</td>\n",
       "      <td>458.489</td>\n",
       "      <td>49698</td>\n",
       "      <td>2016-12-01 00:00:00</td>\n",
       "      <td>2017-01-11 00:00:00</td>\n",
       "      <td>17657</td>\n",
       "      <td>2.81463</td>\n",
       "    </tr>\n",
       "    <tr>\n",
       "      <th>8</th>\n",
       "      <td>H &amp; M</td>\n",
       "      <td>25125620</td>\n",
       "      <td>454.787</td>\n",
       "      <td>55247</td>\n",
       "      <td>2016-12-01 00:00:00</td>\n",
       "      <td>2017-01-11 00:00:00</td>\n",
       "      <td>20799</td>\n",
       "      <td>2.65623</td>\n",
       "    </tr>\n",
       "    <tr>\n",
       "      <th>9</th>\n",
       "      <td>House of Hoops</td>\n",
       "      <td>30414890</td>\n",
       "      <td>325.31</td>\n",
       "      <td>93495</td>\n",
       "      <td>2016-12-01 00:00:00</td>\n",
       "      <td>2017-01-11 00:00:00</td>\n",
       "      <td>33681</td>\n",
       "      <td>2.7759</td>\n",
       "    </tr>\n",
       "    <tr>\n",
       "      <th>10</th>\n",
       "      <td>Kay Jewelers</td>\n",
       "      <td>37295990</td>\n",
       "      <td>479.112</td>\n",
       "      <td>77844</td>\n",
       "      <td>2016-12-01 00:00:00</td>\n",
       "      <td>2017-01-11 00:00:00</td>\n",
       "      <td>30060</td>\n",
       "      <td>2.58962</td>\n",
       "    </tr>\n",
       "    <tr>\n",
       "      <th>11</th>\n",
       "      <td>Lane Bryant</td>\n",
       "      <td>21694020</td>\n",
       "      <td>297.655</td>\n",
       "      <td>72883</td>\n",
       "      <td>2016-12-01 00:00:00</td>\n",
       "      <td>2017-01-11 00:00:00</td>\n",
       "      <td>26081</td>\n",
       "      <td>2.79449</td>\n",
       "    </tr>\n",
       "    <tr>\n",
       "      <th>12</th>\n",
       "      <td>Lucky Brand</td>\n",
       "      <td>8439140</td>\n",
       "      <td>207.523</td>\n",
       "      <td>40666</td>\n",
       "      <td>2016-12-01 00:00:00</td>\n",
       "      <td>2017-01-11 00:00:00</td>\n",
       "      <td>13397</td>\n",
       "      <td>3.03546</td>\n",
       "    </tr>\n",
       "    <tr>\n",
       "      <th>13</th>\n",
       "      <td>Lush</td>\n",
       "      <td>41675550</td>\n",
       "      <td>412.087</td>\n",
       "      <td>101133</td>\n",
       "      <td>2016-12-01 00:00:00</td>\n",
       "      <td>2017-01-01 00:00:00</td>\n",
       "      <td>37370</td>\n",
       "      <td>2.70626</td>\n",
       "    </tr>\n",
       "    <tr>\n",
       "      <th>14</th>\n",
       "      <td>Red Rock Chocolate Factory</td>\n",
       "      <td>19077010</td>\n",
       "      <td>389.677</td>\n",
       "      <td>48956</td>\n",
       "      <td>2016-12-01 00:00:00</td>\n",
       "      <td>2017-01-11 00:00:00</td>\n",
       "      <td>21343</td>\n",
       "      <td>2.29377</td>\n",
       "    </tr>\n",
       "    <tr>\n",
       "      <th>15</th>\n",
       "      <td>Regal Theater</td>\n",
       "      <td>90885090</td>\n",
       "      <td>493.579</td>\n",
       "      <td>184135</td>\n",
       "      <td>2016-12-01 00:00:00</td>\n",
       "      <td>2017-01-11 00:00:00</td>\n",
       "      <td>49836</td>\n",
       "      <td>3.69482</td>\n",
       "    </tr>\n",
       "    <tr>\n",
       "      <th>16</th>\n",
       "      <td>Ribs and Burgers</td>\n",
       "      <td>38926970</td>\n",
       "      <td>325.158</td>\n",
       "      <td>119717</td>\n",
       "      <td>2016-12-01 00:00:00</td>\n",
       "      <td>2017-01-11 00:00:00</td>\n",
       "      <td>36624</td>\n",
       "      <td>3.26881</td>\n",
       "    </tr>\n",
       "    <tr>\n",
       "      <th>17</th>\n",
       "      <td>Teavana</td>\n",
       "      <td>10962140</td>\n",
       "      <td>463.555</td>\n",
       "      <td>23648</td>\n",
       "      <td>2016-12-01 00:00:00</td>\n",
       "      <td>2016-12-24 00:00:00</td>\n",
       "      <td>7178</td>\n",
       "      <td>3.29451</td>\n",
       "    </tr>\n",
       "    <tr>\n",
       "      <th>18</th>\n",
       "      <td>The Buckle</td>\n",
       "      <td>15703270</td>\n",
       "      <td>245.698</td>\n",
       "      <td>63913</td>\n",
       "      <td>2016-12-01 00:00:00</td>\n",
       "      <td>2017-01-11 00:00:00</td>\n",
       "      <td>25026</td>\n",
       "      <td>2.55386</td>\n",
       "    </tr>\n",
       "    <tr>\n",
       "      <th>19</th>\n",
       "      <td>The Rink</td>\n",
       "      <td>56595210</td>\n",
       "      <td>530.917</td>\n",
       "      <td>106599</td>\n",
       "      <td>2016-12-01 00:00:00</td>\n",
       "      <td>2017-01-11 00:00:00</td>\n",
       "      <td>49720</td>\n",
       "      <td>2.14399</td>\n",
       "    </tr>\n",
       "    <tr>\n",
       "      <th>20</th>\n",
       "      <td>Toy Box</td>\n",
       "      <td>23639000</td>\n",
       "      <td>784.697</td>\n",
       "      <td>30125</td>\n",
       "      <td>2016-12-01 00:00:00</td>\n",
       "      <td>2016-12-09 00:00:00</td>\n",
       "      <td>8055</td>\n",
       "      <td>3.73991</td>\n",
       "    </tr>\n",
       "    <tr>\n",
       "      <th>21</th>\n",
       "      <td>Vent Blotique</td>\n",
       "      <td>30049220</td>\n",
       "      <td>420.51</td>\n",
       "      <td>71459</td>\n",
       "      <td>2016-12-01 00:00:00</td>\n",
       "      <td>2017-01-11 00:00:00</td>\n",
       "      <td>28837</td>\n",
       "      <td>2.47803</td>\n",
       "    </tr>\n",
       "    <tr>\n",
       "      <th>22</th>\n",
       "      <td>Victoria's Secret</td>\n",
       "      <td>50401750</td>\n",
       "      <td>394.429</td>\n",
       "      <td>127784</td>\n",
       "      <td>2016-12-01 00:00:00</td>\n",
       "      <td>2017-01-11 00:00:00</td>\n",
       "      <td>44752</td>\n",
       "      <td>2.85538</td>\n",
       "    </tr>\n",
       "  </tbody>\n",
       "</table>\n",
       "</div>"
      ],
      "text/plain": [
       "                     zone_name time_spent avg_time_spent  visits  \\\n",
       "0               American Eagle    8410620        271.564   30971   \n",
       "1               Art of Shaving   41490910        536.703   77307   \n",
       "2                     B. Young   13266030         339.38   39089   \n",
       "3                       Chicos   23066130        312.621   73783   \n",
       "4                        Cream   53903660        574.409   93842   \n",
       "5            Dave and Buster's   52722150        403.071  130801   \n",
       "6                      Express   21148830        282.414   74886   \n",
       "7                   Forever 21   22785990        458.489   49698   \n",
       "8                        H & M   25125620        454.787   55247   \n",
       "9               House of Hoops   30414890         325.31   93495   \n",
       "10                Kay Jewelers   37295990        479.112   77844   \n",
       "11                 Lane Bryant   21694020        297.655   72883   \n",
       "12                 Lucky Brand    8439140        207.523   40666   \n",
       "13                        Lush   41675550        412.087  101133   \n",
       "14  Red Rock Chocolate Factory   19077010        389.677   48956   \n",
       "15               Regal Theater   90885090        493.579  184135   \n",
       "16            Ribs and Burgers   38926970        325.158  119717   \n",
       "17                     Teavana   10962140        463.555   23648   \n",
       "18                  The Buckle   15703270        245.698   63913   \n",
       "19                    The Rink   56595210        530.917  106599   \n",
       "20                     Toy Box   23639000        784.697   30125   \n",
       "21               Vent Blotique   30049220         420.51   71459   \n",
       "22           Victoria's Secret   50401750        394.429  127784   \n",
       "\n",
       "         min_visit_date       max_visit_date unique_visitors  \\\n",
       "0   2016-12-01 00:00:00  2017-01-11 00:00:00           13388   \n",
       "1   2016-12-01 00:00:00  2017-01-11 00:00:00           28934   \n",
       "2   2016-12-01 00:00:00  2017-01-11 00:00:00           18931   \n",
       "3   2016-12-01 00:00:00  2017-01-11 00:00:00           29217   \n",
       "4   2016-12-01 00:00:00  2017-01-11 00:00:00           35554   \n",
       "5   2016-12-01 00:00:00  2017-01-11 00:00:00           39109   \n",
       "6   2016-12-01 00:00:00  2017-01-11 00:00:00           28394   \n",
       "7   2016-12-01 00:00:00  2017-01-11 00:00:00           17657   \n",
       "8   2016-12-01 00:00:00  2017-01-11 00:00:00           20799   \n",
       "9   2016-12-01 00:00:00  2017-01-11 00:00:00           33681   \n",
       "10  2016-12-01 00:00:00  2017-01-11 00:00:00           30060   \n",
       "11  2016-12-01 00:00:00  2017-01-11 00:00:00           26081   \n",
       "12  2016-12-01 00:00:00  2017-01-11 00:00:00           13397   \n",
       "13  2016-12-01 00:00:00  2017-01-01 00:00:00           37370   \n",
       "14  2016-12-01 00:00:00  2017-01-11 00:00:00           21343   \n",
       "15  2016-12-01 00:00:00  2017-01-11 00:00:00           49836   \n",
       "16  2016-12-01 00:00:00  2017-01-11 00:00:00           36624   \n",
       "17  2016-12-01 00:00:00  2016-12-24 00:00:00            7178   \n",
       "18  2016-12-01 00:00:00  2017-01-11 00:00:00           25026   \n",
       "19  2016-12-01 00:00:00  2017-01-11 00:00:00           49720   \n",
       "20  2016-12-01 00:00:00  2016-12-09 00:00:00            8055   \n",
       "21  2016-12-01 00:00:00  2017-01-11 00:00:00           28837   \n",
       "22  2016-12-01 00:00:00  2017-01-11 00:00:00           44752   \n",
       "\n",
       "   avgVisitsPerVisitor  \n",
       "0              2.31334  \n",
       "1              2.67184  \n",
       "2              2.06481  \n",
       "3              2.52534  \n",
       "4              2.63942  \n",
       "5              3.34452  \n",
       "6              2.63739  \n",
       "7              2.81463  \n",
       "8              2.65623  \n",
       "9               2.7759  \n",
       "10             2.58962  \n",
       "11             2.79449  \n",
       "12             3.03546  \n",
       "13             2.70626  \n",
       "14             2.29377  \n",
       "15             3.69482  \n",
       "16             3.26881  \n",
       "17             3.29451  \n",
       "18             2.55386  \n",
       "19             2.14399  \n",
       "20             3.73991  \n",
       "21             2.47803  \n",
       "22             2.85538  "
      ]
     },
     "execution_count": 8,
     "metadata": {},
     "output_type": "execute_result"
    }
   ],
   "source": [
    "cleanData"
   ]
  },
  {
   "cell_type": "markdown",
   "metadata": {},
   "source": [
    "<h2> Step 4 - Zone Deep Dive </h2>"
   ]
  },
  {
   "cell_type": "markdown",
   "metadata": {},
   "source": [
    "<h6> Build Functions </h6>"
   ]
  },
  {
   "cell_type": "code",
   "execution_count": 9,
   "metadata": {
    "collapsed": true
   },
   "outputs": [],
   "source": [
    "#This function is designed to bucket the zones into their zone type\n",
    "\n",
    "def zone_type(x):\n",
    "    '''\n",
    "    Head:This function was built to bucket the zones \n",
    "         into their zone type after the zones have been cleaned of coordinates\n",
    "    \n",
    "    Note:This function should be used with a \n",
    "         .map() or .apply() function on a pandas dataframe\n",
    "    \n",
    "    Requires:\n",
    "        single data point - stripped zone_data\n",
    "        \n",
    "    Returns:\n",
    "        single data point - grouped zone_data\n",
    "    \n",
    "    '''\n",
    "    if x in ['American Eagle',\n",
    "          'Art of Shaving',\n",
    "          'B. Young',\n",
    "          'Chicos',\n",
    "          'Express',\n",
    "          'Forever 21',\n",
    "          'H & M',\n",
    "          'House of Hoops',\n",
    "          'Kay Jewelers',\n",
    "          'Lane Bryant',\n",
    "          'Lucky Brand',\n",
    "          'Lush',\n",
    "          'Teavana',\n",
    "          'The Buckle',\n",
    "          'Toy Box',\n",
    "          \"Victoria's Secret\"]:\n",
    "        return 'Retail'\n",
    "\n",
    "    elif x in [\"Dave and Buster's\",\n",
    "               \"The Rink\",\n",
    "               \"Regal Theater\",\n",
    "               \"Vent Blotique\"]:\n",
    "        return 'Activity'\n",
    "\n",
    "\n",
    "    elif x in ['Red Rock Chocolate Factory',\n",
    "               'Ribs and Burgers',\n",
    "               'Cream']:\n",
    "        return 'Restaurant'\n",
    "\n",
    "    else:\n",
    "        return 'Error'"
   ]
  },
  {
   "cell_type": "markdown",
   "metadata": {},
   "source": [
    "<h6> Clean Data </h6>"
   ]
  },
  {
   "cell_type": "code",
   "execution_count": 10,
   "metadata": {
    "collapsed": true
   },
   "outputs": [],
   "source": [
    "deepDiveRaw = rawExtract.copy()\n",
    "deepDiveRaw['zone_type']=deepDiveRaw['current_zone_grouped'].apply(zone_type)"
   ]
  },
  {
   "cell_type": "markdown",
   "metadata": {},
   "source": [
    "<h6> Process and Analyze Data </h6>"
   ]
  },
  {
   "cell_type": "code",
   "execution_count": 11,
   "metadata": {
    "collapsed": false
   },
   "outputs": [],
   "source": [
    "columns = ['zone_type','data_file_date','dwell_time_in_sec']\n",
    "\n",
    "pivotedDeepDive = pd.pivot_table(deepDiveRaw[columns],\n",
    "                      index=['data_file_date'],\n",
    "                      columns=['zone_type'],\n",
    "                      aggfunc=np.sum\n",
    "                     ).reset_index()\n",
    "\n",
    "activeColumns = ['date',\n",
    "                 'TimeSpent_Activity',\n",
    "                 'TimeSpent_Restaurant',\n",
    "                 'TimeSpent_Retail']\n",
    "\n",
    "strctDpDv = pd.DataFrame(pivotedDeepDive.values,columns=activeColumns)\n",
    "strctDpDv['Date']=strctDpDv['date'].apply(pd.to_datetime)\n",
    "\n",
    "strctDpDv['RetailPercent']=100 * (strctDpDv['TimeSpent_Retail']/\n",
    "                                     (strctDpDv['TimeSpent_Activity']+\n",
    "                                      strctDpDv['TimeSpent_Retail'] +\n",
    "                                      strctDpDv['TimeSpent_Restaurant']) )\n",
    "\n",
    "strctDpDv['ActivityPercent']=100 * (strctDpDv['TimeSpent_Activity']/\n",
    "                                          (strctDpDv['TimeSpent_Activity']+\n",
    "                                           strctDpDv['TimeSpent_Retail'] +\n",
    "                                           strctDpDv['TimeSpent_Restaurant']) )\n",
    "\n",
    "\n",
    "strctDpDv['RestaurantPercent']=100 * (strctDpDv['TimeSpent_Restaurant']/\n",
    "                                            (strctDpDv['TimeSpent_Activity']+\n",
    "                                             strctDpDv['TimeSpent_Retail'] +\n",
    "                                             strctDpDv['TimeSpent_Restaurant']) )\n",
    "organizedData = strctDpDv[['Date',\n",
    "                           'RetailPercent',\n",
    "                           'ActivityPercent',\n",
    "                           'RestaurantPercent']]\n"
   ]
  },
  {
   "cell_type": "markdown",
   "metadata": {},
   "source": [
    "<H6> Display Results </h6>"
   ]
  },
  {
   "cell_type": "code",
   "execution_count": 12,
   "metadata": {
    "collapsed": false,
    "scrolled": false
   },
   "outputs": [
    {
     "data": {
      "text/html": [
       "<iframe id=\"igraph\" scrolling=\"no\" style=\"border:none;\" seamless=\"seamless\" src=\"https://plot.ly/~CJ_Foley/6.embed\" height=\"525px\" width=\"100%\"></iframe>"
      ],
      "text/plain": [
       "<plotly.tools.PlotlyDisplay object>"
      ]
     },
     "execution_count": 12,
     "metadata": {},
     "output_type": "execute_result"
    }
   ],
   "source": [
    "trace0 = go.Scatter(\n",
    "    x = organizedData['Date'],\n",
    "    y = organizedData['RetailPercent'],\n",
    "    mode = 'lines',\n",
    "    name = '% Retail Visits')\n",
    "\n",
    "trace1 = go.Scatter(\n",
    "    x = organizedData['Date'],\n",
    "    y = organizedData['ActivityPercent'],\n",
    "    mode = 'lines',\n",
    "    name = '% Activity Visits')\n",
    "\n",
    "trace2 = go.Scatter(\n",
    "    x = organizedData['Date'],\n",
    "    y = organizedData['RestaurantPercent'],\n",
    "    mode = 'lines',\n",
    "    name = '% Restaurant Visits')\n",
    "\n",
    "chartData = [trace0,trace1,trace2]\n",
    "\n",
    "chartLayout = go.Layout(\n",
    "    title='''Breakdown of Zone Groups Visited <br> by Date''')\n",
    "\n",
    "zoneFig = go.Figure(data=chartData, layout=chartLayout)\n",
    "\n",
    "py.iplot(zoneFig, filename='zone_distribution')"
   ]
  },
  {
   "cell_type": "markdown",
   "metadata": {},
   "source": [
    "<h2> Step 5 - Location Study (Data Merge Analysis) </h2>"
   ]
  },
  {
   "cell_type": "markdown",
   "metadata": {},
   "source": [
    "<h6> Extract Relevant Data </h6>"
   ]
  },
  {
   "cell_type": "code",
   "execution_count": 13,
   "metadata": {
    "collapsed": true
   },
   "outputs": [],
   "source": [
    "#only individuals using the SSI process will be cataloged for this analysis.\n",
    "\n",
    "cur.execute('''\n",
    "select\n",
    "fbData.*,\n",
    "vstData.current_zone_name,\n",
    "vstData.dwell_time_in_sec,\n",
    "vstData.data_file_date\n",
    "\n",
    "from mexia_ssi_data as vstData\n",
    "\n",
    "inner join\n",
    "    (    select \n",
    "            ss_p.ssi_id,\n",
    "            ss_p.fb_gender,\n",
    "            ss_p.fb_loc,\n",
    "            ss_m.mac_address\n",
    "         from ss_profiles ss_p\n",
    "\n",
    "         inner join (select \n",
    "                            distinct\n",
    "                            ssi_id, \n",
    "                            substr(user_mac,1,2)||substr(user_mac,4,2)||substr(user_mac,7,2)||substr(user_mac,10,2)||substr(user_mac,13,2)||substr(user_mac,16,2) as mac_address   \n",
    "                        from ss_mac_ref) ss_m\n",
    "         on ss_p.ssi_id = ss_m.ssi_id) as fbDATA\n",
    "on vstData.mac_address = fbData.mac_address\n",
    "\n",
    "where fbData.ssi_id !=''\n",
    "''')"
   ]
  },
  {
   "cell_type": "markdown",
   "metadata": {},
   "source": [
    "<h6> Clean Data </h6>"
   ]
  },
  {
   "cell_type": "code",
   "execution_count": 14,
   "metadata": {
    "collapsed": true
   },
   "outputs": [],
   "source": [
    "relevantColumns = [i[0] for i in cur.description]\n",
    "rawExtract = pd.DataFrame(cur.fetchall(),columns=relevantColumns)"
   ]
  },
  {
   "cell_type": "markdown",
   "metadata": {},
   "source": [
    "<h6> Process and Analyze Data </h6>"
   ]
  },
  {
   "cell_type": "code",
   "execution_count": 15,
   "metadata": {
    "collapsed": true
   },
   "outputs": [],
   "source": [
    "#select necessary columns\n",
    "dataSubset = rawExtract[['fb_loc','dwell_time_in_sec']]\n",
    "\n",
    "#aggregate time spent by location\n",
    "dataAgg = dataSubset.groupby('fb_loc').sum().reset_index()\n",
    "\n",
    "#remove Las Vegas and Null\n",
    "rmvdLocations = ['','Las Vegas, Nevada', 'North Las Vegas, Nevada']\n",
    "dataFinal = dataAgg[~dataAgg.fb_loc.isin(rmvdLocations)]"
   ]
  },
  {
   "cell_type": "markdown",
   "metadata": {},
   "source": [
    "<h6> Display Results </h6>"
   ]
  },
  {
   "cell_type": "code",
   "execution_count": 16,
   "metadata": {
    "collapsed": false
   },
   "outputs": [
    {
     "data": {
      "text/html": [
       "<iframe id=\"igraph\" scrolling=\"no\" style=\"border:none;\" seamless=\"seamless\" src=\"https://plot.ly/~CJ_Foley/8.embed\" height=\"525px\" width=\"100%\"></iframe>"
      ],
      "text/plain": [
       "<plotly.tools.PlotlyDisplay object>"
      ]
     },
     "execution_count": 16,
     "metadata": {},
     "output_type": "execute_result"
    }
   ],
   "source": [
    "#build visual\n",
    "chartData = [go.Bar(x = dataFinal['fb_loc'].values,\n",
    "                    y = dataFinal['dwell_time_in_sec'].values)]\n",
    "                    \n",
    "chartLayout = go.Layout(\n",
    "    title='''Total Time Spent by Facebook Location <br> for Non-Locals ''',\n",
    ")\n",
    "                    \n",
    "chartFig = go.Figure(data=chartData, layout=chartLayout)\n",
    "\n",
    "py.iplot(chartFig, filename='location_distribution')                    "
   ]
  },
  {
   "cell_type": "markdown",
   "metadata": {},
   "source": [
    "<h2>Step 6 - Gender Effect (Merge Data Analysis) </h2>"
   ]
  },
  {
   "cell_type": "markdown",
   "metadata": {},
   "source": [
    "<h6> Extract Relevant Data </h6>"
   ]
  },
  {
   "cell_type": "code",
   "execution_count": 17,
   "metadata": {
    "collapsed": true
   },
   "outputs": [],
   "source": [
    "dataSubsetGE = rawExtract[['fb_gender','mac_address','current_zone_name']].copy()"
   ]
  },
  {
   "cell_type": "markdown",
   "metadata": {},
   "source": [
    "<h6>Clean Data </h6>"
   ]
  },
  {
   "cell_type": "code",
   "execution_count": 18,
   "metadata": {
    "collapsed": true
   },
   "outputs": [],
   "source": [
    "#remove coordinates \n",
    "dataSubsetGE['current_zone_grouped']= dataSubsetGE['current_zone_name'].apply(removeCoordinates)\n",
    "\n",
    "#filter Out\n",
    "stores = [\"Victoria's Secret\",\"Art of Shaving\",\"Lush\",\"House of Hoops\"]\n",
    "notGender = ['','N/A']\n",
    "dataSubsetGeF1 = dataSubsetGE[~dataSubsetGE.fb_gender.isin(notGender)]\n",
    "dataSubsetGeF2 = dataSubsetGeF1[dataSubsetGeF1.current_zone_grouped.isin(stores)]"
   ]
  },
  {
   "cell_type": "markdown",
   "metadata": {},
   "source": [
    "<h6> Process and Analyze Data </h6>"
   ]
  },
  {
   "cell_type": "code",
   "execution_count": 19,
   "metadata": {
    "collapsed": false
   },
   "outputs": [],
   "source": [
    "#define the aggregations we want to perform\n",
    "funcs = {'mac_address':['nunique']}\n",
    "\n",
    "#perform aggregation\n",
    "processedGe = dataSubsetGeF2.groupby(['fb_gender',\n",
    "                                      'current_zone_grouped']).agg(funcs)\n",
    "\n",
    "#refine data\n",
    "\n",
    "cleanDataGe = pd.DataFrame(processedGe.reset_index().values,\n",
    "                           columns=['Gender',\n",
    "                                    'Store',\n",
    "                                    'unique_visitors'])\n",
    "\n",
    "#split data for visuals\n",
    "maleData = cleanDataGe.loc[cleanDataGe['Gender']=='male']\n",
    "femaleData = cleanDataGe.loc[cleanDataGe['Gender']=='female']"
   ]
  },
  {
   "cell_type": "markdown",
   "metadata": {},
   "source": [
    "<h6> Display Results </h6>"
   ]
  },
  {
   "cell_type": "code",
   "execution_count": 20,
   "metadata": {
    "collapsed": false
   },
   "outputs": [
    {
     "data": {
      "text/html": [
       "<iframe id=\"igraph\" scrolling=\"no\" style=\"border:none;\" seamless=\"seamless\" src=\"https://plot.ly/~CJ_Foley/10.embed\" height=\"525px\" width=\"100%\"></iframe>"
      ],
      "text/plain": [
       "<plotly.tools.PlotlyDisplay object>"
      ]
     },
     "execution_count": 20,
     "metadata": {},
     "output_type": "execute_result"
    }
   ],
   "source": [
    "trace0 = go.Bar(\n",
    "        x= maleData['Store'].values,\n",
    "        y= maleData['unique_visitors'].values,\n",
    "        name='Male')\n",
    "\n",
    "trace1 =  go.Bar(\n",
    "        x= femaleData['Store'].values,\n",
    "        y= femaleData['unique_visitors'].values,\n",
    "        name='Female')\n",
    "\n",
    "chartData = [trace0,trace1]\n",
    "\n",
    "chartLayout = go.Layout(\n",
    "            barmode='group',\n",
    "            title='Gender Biased Stores Breakdown')\n",
    "\n",
    "\n",
    "chartFig = go.Figure(data=chartData, layout=chartLayout)\n",
    "\n",
    "py.iplot(chartFig, filename='gender_effect')  \n",
    "\n"
   ]
  },
  {
   "cell_type": "markdown",
   "metadata": {},
   "source": [
    "<h2> Step 7 Close Connection </h2>"
   ]
  },
  {
   "cell_type": "code",
   "execution_count": 21,
   "metadata": {
    "collapsed": true
   },
   "outputs": [],
   "source": [
    "cur.close()\n",
    "conn.close()"
   ]
  }
 ],
 "metadata": {
  "kernelspec": {
   "display_name": "Python 2",
   "language": "python",
   "name": "python2"
  },
  "language_info": {
   "codemirror_mode": {
    "name": "ipython",
    "version": 2
   },
   "file_extension": ".py",
   "mimetype": "text/x-python",
   "name": "python",
   "nbconvert_exporter": "python",
   "pygments_lexer": "ipython2",
   "version": "2.7.13"
  }
 },
 "nbformat": 4,
 "nbformat_minor": 2
}
